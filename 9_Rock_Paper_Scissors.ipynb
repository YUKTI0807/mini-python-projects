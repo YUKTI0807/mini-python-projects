{
  "nbformat": 4,
  "nbformat_minor": 0,
  "metadata": {
    "colab": {
      "provenance": [],
      "authorship_tag": "ABX9TyNwHKWcNJxRHlda4ScX4fqu",
      "include_colab_link": true
    },
    "kernelspec": {
      "name": "python3",
      "display_name": "Python 3"
    },
    "language_info": {
      "name": "python"
    }
  },
  "cells": [
    {
      "cell_type": "markdown",
      "metadata": {
        "id": "view-in-github",
        "colab_type": "text"
      },
      "source": [
        "<a href=\"https://colab.research.google.com/github/YUKTI0807/mini-python-projects/blob/main/Project9.ipynb\" target=\"_parent\"><img src=\"https://colab.research.google.com/assets/colab-badge.svg\" alt=\"Open In Colab\"/></a>"
      ]
    },
    {
      "cell_type": "code",
      "execution_count": 1,
      "metadata": {
        "id": "FDexL6I-r9tm",
        "colab": {
          "base_uri": "https://localhost:8080/"
        },
        "outputId": "eda96e4a-df9f-4e91-e8b0-046bb7ed21d8"
      },
      "outputs": [
        {
          "output_type": "stream",
          "name": "stdout",
          "text": [
            "Enter your choice:Rock\n",
            "Computer chose: Paper\n",
            "Computer wins\n",
            "Enter your choice:Rock\n",
            "Computer chose: Rock\n",
            "Tie\n",
            "Enter your choice:Paper\n",
            "Computer chose: Paper\n",
            "Tie\n",
            "Enter your choice:Paper\n",
            "Computer chose: Scissor\n",
            "Computer wins\n",
            "Enter your choice:Scissor\n",
            "Computer chose: Paper\n",
            "You win\n",
            "\n",
            "Your final score is: 1\n"
          ]
        }
      ],
      "source": [
        "# 9. Rock Paper Scissors ✊✋✌️\n",
        "# print(random.choice(['Rock', 'Paper', 'Scissor']))  # Random choice from list\n",
        "# Concepts: random module, conditions, loops\n",
        "# What to build:\n",
        "# Let user choose Rock, Paper, or Scissors\n",
        "# Computer picks randomly\n",
        "# Decide winner (User vs Computer)\n",
        "# Extra challenge: Keep score (best of 5 rounds).\n",
        "import string\n",
        "import random\n",
        "\n",
        "player_score = 0\n",
        "\n",
        "def increment_score(point):\n",
        "    global player_score\n",
        "    player_score += point\n",
        "\n",
        "for i in range(5):\n",
        "  you = input(\"Enter your choice:\")\n",
        "  computer = random.choice(['Rock', 'Paper', 'Scissor'])\n",
        "  print(f\"Computer chose: {computer}\")\n",
        "  if you == computer:\n",
        "    print(\"Tie\")\n",
        "  elif you == 'Rock':\n",
        "    if computer == 'Paper':\n",
        "      print(\"Computer wins\")\n",
        "      increment_score(0)\n",
        "    else:\n",
        "      print(\"You win\")\n",
        "      increment_score(1)\n",
        "  elif you == 'Paper':\n",
        "    if computer == 'Scissor':\n",
        "      print(\"Computer wins\")\n",
        "      increment_score(0)\n",
        "    else:\n",
        "      print(\"You win\")\n",
        "      increment_score(1)\n",
        "  elif you == 'Scissor':\n",
        "    if computer == 'Rock':\n",
        "      print(\"Computer wins\")\n",
        "      increment_score(0)\n",
        "    else:\n",
        "      print(\"You win\")\n",
        "      increment_score(1)\n",
        "  else:\n",
        "    print(\"Invalid choice\")\n",
        "print(f\"\\nYour final score is: {player_score}\")"
      ]
    }
  ]
}
