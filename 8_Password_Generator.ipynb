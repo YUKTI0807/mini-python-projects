{
  "nbformat": 4,
  "nbformat_minor": 0,
  "metadata": {
    "colab": {
      "provenance": [],
      "authorship_tag": "ABX9TyOiizFIvNqidgm5FqNYNFZt",
      "include_colab_link": true
    },
    "kernelspec": {
      "name": "python3",
      "display_name": "Python 3"
    },
    "language_info": {
      "name": "python"
    }
  },
  "cells": [
    {
      "cell_type": "markdown",
      "metadata": {
        "id": "view-in-github",
        "colab_type": "text"
      },
      "source": [
        "<a href=\"https://colab.research.google.com/github/YUKTI0807/mini-python-projects/blob/main/Project8.ipynb\" target=\"_parent\"><img src=\"https://colab.research.google.com/assets/colab-badge.svg\" alt=\"Open In Colab\"/></a>"
      ]
    },
    {
      "cell_type": "code",
      "execution_count": 10,
      "metadata": {
        "colab": {
          "base_uri": "https://localhost:8080/"
        },
        "id": "Yd9XEC2dcmdv",
        "outputId": "5d83d068-6ab5-4ca9-d4dd-ad2880707fbf"
      },
      "outputs": [
        {
          "output_type": "stream",
          "name": "stdout",
          "text": [
            "Enter password length: 6\n",
            "Password Generator\n",
            "1. Weak (Only Digit)\n",
            "2. Medium (Degit + Letter)\n",
            "3. Strong (Digits + Letter + Symbols)\n",
            "Enter your choice: 2\n",
            "Your Generated Password is: k5VEVe\n"
          ]
        }
      ],
      "source": [
        "# 8. Password Generator 🔑\n",
        "# Concepts: Random, string module\n",
        "# What to build:\n",
        "# Generate strong random password with letters, digits, symbols\n",
        "# Let user choose length\n",
        "# Extra challenge: Add option for password strength (weak, medium, strong).\n",
        "\n",
        "import random\n",
        "import string\n",
        "\n",
        "length = int(input(\"Enter password length: \"))\n",
        "print(\"Password Generator\")\n",
        "print(\"1. Weak (Only Digit)\")\n",
        "print(\"2. Medium (Degit + Letter)\")\n",
        "print(\"3. Strong (Digits + Letter + Symbols)\")\n",
        "\n",
        "choice = input(\"Enter your choice: \")\n",
        "\n",
        "if choice == \"1\":\n",
        "  characters = string.digits\n",
        "elif choice == \"2\":\n",
        "  characters = string.digits + string.ascii_letters\n",
        "elif choice == \"3\":\n",
        "  characters = string.digits + string.ascii_letters + string.punctuation\n",
        "else:\n",
        "  print(\"Invalid choice! Defaulting to strong password.\")\n",
        "  characters = string.digits + string.ascii_letters + string.punctuation\n",
        "\n",
        "password = ''.join(random.choice(characters) for _ in range(length))\n",
        "\n",
        "print(\"Your Generated Password is:\", password)\n"
      ]
    }
  ]
}
