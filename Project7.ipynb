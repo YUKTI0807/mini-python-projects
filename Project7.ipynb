{
  "nbformat": 4,
  "nbformat_minor": 0,
  "metadata": {
    "colab": {
      "provenance": [],
      "authorship_tag": "ABX9TyOwI/JfkpGd8+Rdx1pfG3J9",
      "include_colab_link": true
    },
    "kernelspec": {
      "name": "python3",
      "display_name": "Python 3"
    },
    "language_info": {
      "name": "python"
    }
  },
  "cells": [
    {
      "cell_type": "markdown",
      "metadata": {
        "id": "view-in-github",
        "colab_type": "text"
      },
      "source": [
        "<a href=\"https://colab.research.google.com/github/YUKTI0807/mini-python-projects/blob/main/Project7.ipynb\" target=\"_parent\"><img src=\"https://colab.research.google.com/assets/colab-badge.svg\" alt=\"Open In Colab\"/></a>"
      ]
    },
    {
      "cell_type": "code",
      "execution_count": null,
      "metadata": {
        "colab": {
          "base_uri": "https://localhost:8080/"
        },
        "id": "SUypV9yDgQKt",
        "outputId": "9d21a715-de1e-4ed3-a8c9-9a115fb5a45c"
      },
      "outputs": [
        {
          "output_type": "stream",
          "name": "stdout",
          "text": [
            "Welcome to Mini Chatbot! Type 'bye' to exit.\n",
            "You: hi\n",
            "Chatbot: Hello! How are you?\n",
            "You: how are you\n",
            "Chatbot: I'm just a bot, but I'm doing great! How about you?\n",
            "You: abcd\n",
            "Chatbot: Sorry, I didn't understand that.\n",
            "You: bye\n",
            "Chatbot: Goodbye! Have a nice day!\n"
          ]
        }
      ],
      "source": [
        "# 7. Mini Chatbot\n",
        "# Concepts: If-else, dictionaries, string matching\n",
        "# What to build:\n",
        "# Respond to user input like “hi”, “how are you?”, “bye”\n",
        "# Extra challenge: Use NLP libraries like nltk or transformers for better responses.\n",
        "# Mini Chatbot\n",
        "\n",
        "response = {\n",
        "    \"hi\": \"Hello! How are you?\",\n",
        "    \"hello\": \"Hi there! How can I help you?\",\n",
        "    \"how are you\": \"I'm just a bot, but I'm doing great! How about you?\",\n",
        "    \"bye\": \"Goodbye! Have a nice day!\",\n",
        "    \"what is your name\": \"I'm Mini Chatbot!!\",\n",
        "}\n",
        "\n",
        "def getting(y):\n",
        "    y = y.lower()\n",
        "    if y in response:\n",
        "        return response[y]\n",
        "    else:\n",
        "        return \"Sorry, I didn't understand that.\"\n",
        "\n",
        "print(\"Welcome to Mini Chatbot! Type 'bye' to exit.\")\n",
        "while True:\n",
        "    y = input(\"You: \")\n",
        "    reply = getting(y)\n",
        "    print(\"Chatbot:\", reply)\n",
        "\n",
        "    if y.lower() == \"bye\":\n",
        "        break\n"
      ]
    }
  ]
}