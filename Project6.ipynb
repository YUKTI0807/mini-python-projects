{
  "nbformat": 4,
  "nbformat_minor": 0,
  "metadata": {
    "colab": {
      "provenance": [],
      "authorship_tag": "ABX9TyPVL+qalmqOBQiGt4Z6h7hG",
      "include_colab_link": true
    },
    "kernelspec": {
      "name": "python3",
      "display_name": "Python 3"
    },
    "language_info": {
      "name": "python"
    }
  },
  "cells": [
    {
      "cell_type": "markdown",
      "metadata": {
        "id": "view-in-github",
        "colab_type": "text"
      },
      "source": [
        "<a href=\"https://colab.research.google.com/github/YUKTI0807/mini-python-projects/blob/main/Project6.ipynb\" target=\"_parent\"><img src=\"https://colab.research.google.com/assets/colab-badge.svg\" alt=\"Open In Colab\"/></a>"
      ]
    },
    {
      "cell_type": "code",
      "execution_count": null,
      "metadata": {
        "colab": {
          "base_uri": "https://localhost:8080/"
        },
        "id": "KKTQSvxudkl3",
        "outputId": "cc8585e5-837d-45e3-a2d1-69745bc1449d"
      },
      "outputs": [
        {
          "output_type": "stream",
          "name": "stdout",
          "text": [
            "5 Python multiple-choice questions (MCQs)\n",
            "\n",
            "\n",
            "\n",
            "Q1: What will be the output of print(type(5))?\n",
            "a) <class 'str'>\n",
            "b)<class 'float'>\n",
            "c)<class 'int'>\n",
            "d)<class 'bool'>\n",
            "Answer:c\n",
            "✅ Correct!\n",
            "\n",
            "Q2: Which keyword is used to define a function in Python?\n",
            "a) fun\n",
            "(b) function\n",
            "c) define\n",
            "d) def\n",
            "Answer:d\n",
            "✅ Correct!\n",
            "\n",
            "Q3: Which of the following is a mutable data type in Python?\n",
            "a) List\n",
            "b) Tuple\n",
            "c) Set\n",
            "d) Dictionary\n",
            "Answer:a\n",
            "✅ Correct!\n",
            "\n",
            "Q4: What is the output of 3 * 'Hi'?\n",
            "a) HiHi\n",
            "b) Hi3\n",
            "c) HiHiHi\n",
            "d) Error\n",
            "Answer:a\n",
            "\n",
            "Q5: What is the correct way to start a comment in Python?\n",
            "a) // comment\n",
            "b) /* comment */\n",
            "c) # comment\n",
            "d) <!-- comment -->\n",
            "Answer:a\n",
            "\n",
            "🏆 Your final score is: 20\n"
          ]
        }
      ],
      "source": [
        "# 6. Quiz Game\n",
        "# Concepts: Dictionaries, loops, score tracking\n",
        "# What to build:\n",
        "# Store questions & answers in dictionary\n",
        "# Ask one by one\n",
        "# Show score at end\n",
        "player_score = 0\n",
        "\n",
        "def increment_score(point):\n",
        "    global player_score\n",
        "    player_score += point\n",
        "\n",
        "print(\"5 Python multiple-choice questions (MCQs)\\n\\n\")\n",
        "\n",
        "quiz = {\n",
        "    1: {\n",
        "        \"question\": \"What will be the output of print(type(5))?\",\n",
        "        \"options\": [\"a) <class 'str'>\", \"b)<class 'float'>\", \"c)<class 'int'>\", \"d)<class 'bool'>\"],\n",
        "        \"answer\": \"c\"\n",
        "    },\n",
        "    2: {\n",
        "        \"question\": \"Which keyword is used to define a function in Python?\",\n",
        "        \"options\": [\"a) fun\", \"(b) function\", \"c) define\", \"d) def\"],\n",
        "        \"answer\": \"d\"\n",
        "    },\n",
        "    3: {\n",
        "        \"question\": \"Which of the following is a mutable data type in Python?\",\n",
        "        \"options\": [\"a) List\", \"b) Tuple\", \"c) Set\", \"d) Dictionary\"],\n",
        "        \"answer\": \"a\"\n",
        "    },\n",
        "    4: {\n",
        "        \"question\": \"What is the output of 3 * 'Hi'?\",\n",
        "        \"options\": [\"a) HiHi\", \"b) Hi3\", \"c) HiHiHi\", \"d) Error\"],\n",
        "        \"answer\": \"c\"\n",
        "    },\n",
        "    5: {\n",
        "        \"question\": \"What is the correct way to start a comment in Python?\",\n",
        "        \"options\": [\"a) // comment\", \"b) /* comment */\", \"c) # comment\", \"d) <!-- comment -->\"],\n",
        "        \"answer\": \"c\"\n",
        "    }\n",
        "\n",
        "}\n",
        "\n",
        "# Print questions and options\n",
        "for n, qdata in quiz.items():\n",
        "  print(f\"\\nQ{n}: {qdata['question']}\")\n",
        "  for opt in qdata[\"options\"]:\n",
        "    print(opt)\n",
        "  a1 = input(\"Answer:\")\n",
        "  if a1 == qdata[\"answer\"]:\n",
        "      print(\"✅ Correct!\")\n",
        "      increment_score(10)\n",
        "  else:\n",
        "      increment_score(-5)\n",
        "\n",
        "print(f\"\\n🏆 Your final score is: {player_score}\")\n",
        "\n"
      ]
    }
  ]
}