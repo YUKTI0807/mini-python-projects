{
  "nbformat": 4,
  "nbformat_minor": 0,
  "metadata": {
    "colab": {
      "provenance": [],
      "authorship_tag": "ABX9TyOQ3/JCARLzZgq89hmFUvnw",
      "include_colab_link": true
    },
    "kernelspec": {
      "name": "python3",
      "display_name": "Python 3"
    },
    "language_info": {
      "name": "python"
    }
  },
  "cells": [
    {
      "cell_type": "markdown",
      "metadata": {
        "id": "view-in-github",
        "colab_type": "text"
      },
      "source": [
        "<a href=\"https://colab.research.google.com/github/YUKTI0807/mini-python-projects/blob/main/Project2.ipynb\" target=\"_parent\"><img src=\"https://colab.research.google.com/assets/colab-badge.svg\" alt=\"Open In Colab\"/></a>"
      ]
    },
    {
      "cell_type": "code",
      "execution_count": null,
      "metadata": {
        "colab": {
          "base_uri": "https://localhost:8080/"
        },
        "id": "LdqUl2VoQtlv",
        "outputId": "921d9cfc-9d67-4b0d-80bd-8f38ab2c5075"
      },
      "outputs": [
        {
          "output_type": "stream",
          "name": "stdout",
          "text": [
            "Guess number between 1-100:50\n",
            "Too high!!\n",
            "Guess number between 1-100:40\n",
            "Too high!!\n",
            "Guess number between 1-100:30\n",
            "Too high!!\n",
            "Guess number between 1-100:20\n",
            "Too low!!\n",
            "Guess number between 1-100:25\n",
            "You are correct!\n",
            "Number of attempts 5\n"
          ]
        }
      ],
      "source": [
        "# 2.Number Guessing Game\n",
        "# Concepts: Loops, random module, conditions\n",
        "# What to build:\n",
        "# Generate random number between 1-100\n",
        "# Let user guess until correct\n",
        "# Give hints (“Too High / Too Low”)\n",
        "# Extra challenge: Count number of attempts and display at end.\n",
        "import random\n",
        "y = random.randint(1,100)\n",
        "count = 0\n",
        "while(1):\n",
        "  count += 1\n",
        "  x = int(input(\"Guess number between 1-100:\"))\n",
        "  if x > y:\n",
        "    print(\"Too high!!\")\n",
        "  elif x < y:\n",
        "    print(\"Too low!!\")\n",
        "  else:\n",
        "    print(\"You are correct!\")\n",
        "    print(\"Number of attempts\",count)\n",
        "    break"
      ]
    }
  ]
}