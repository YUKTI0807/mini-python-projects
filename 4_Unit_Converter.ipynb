{
  "nbformat": 4,
  "nbformat_minor": 0,
  "metadata": {
    "colab": {
      "provenance": [],
      "authorship_tag": "ABX9TyPiF/lpeboL/5xFP9i/zOrM",
      "include_colab_link": true
    },
    "kernelspec": {
      "name": "python3",
      "display_name": "Python 3"
    },
    "language_info": {
      "name": "python"
    }
  },
  "cells": [
    {
      "cell_type": "markdown",
      "metadata": {
        "id": "view-in-github",
        "colab_type": "text"
      },
      "source": [
        "<a href=\"https://colab.research.google.com/github/YUKTI0807/mini-python-projects/blob/main/Project4.ipynb\" target=\"_parent\"><img src=\"https://colab.research.google.com/assets/colab-badge.svg\" alt=\"Open In Colab\"/></a>"
      ]
    },
    {
      "cell_type": "code",
      "execution_count": 1,
      "metadata": {
        "id": "FKSt9H18Xf5M",
        "colab": {
          "base_uri": "https://localhost:8080/"
        },
        "outputId": "5814a71f-b535-42dd-aec3-7f4bc0db7d08"
      },
      "outputs": [
        {
          "output_type": "stream",
          "name": "stdout",
          "text": [
            "Welcome to the Unit Converter!\n",
            "What do you wnat to convert:weight\n",
            "Do you want to convert into kg or lbs:lbs\n",
            "Enter your weight:45\n",
            "99.2025\n"
          ]
        }
      ],
      "source": [
        "# 4. Unit Converter 🔄\n",
        "# Concepts: Functions, math\n",
        "# What to build:\n",
        "# Convert km ↔ miles, °C ↔ °F, kg ↔ lbs\n",
        "# Extra challenge: Add menu to choose conversion type.\n",
        "def temp():\n",
        "  t = input(\"Do you want to convert into Celsius or Fahrenheit:\").lower()\n",
        "  if t == \"celsius\":\n",
        "    f = int(input(\"Enter your temperature:\"))\n",
        "    c = (f - 32) * 5/9\n",
        "    return c\n",
        "  else:\n",
        "    c = int(input(\"Enter your temperature:\"))\n",
        "    f = c * 9/5 + 32\n",
        "    return f\n",
        "def weight():\n",
        "  w = input(\"Do you want to convert into kg or lbs:\").lower()\n",
        "  if w == \"kg\":\n",
        "    l = int(input(\"Enter your weight:\"))\n",
        "    k = l * 0.4536\n",
        "    return k\n",
        "  else:\n",
        "    k = int(input(\"Enter your weight:\"))\n",
        "    l = k * 2.2045\n",
        "    return l\n",
        "def dist():\n",
        "  d = input(\"Do you want to convert into km or miles:\").lower()\n",
        "  if d == \"km\":\n",
        "    m = int(input(\"Enter your distance:\"))\n",
        "    k = m * 1.6093\n",
        "    return k\n",
        "  else:\n",
        "    k = int(input(\"Enter your distance:\"))\n",
        "    m = k * 0.6213\n",
        "    return m\n",
        "print(\"Welcome to the Unit Converter!\")\n",
        "c = input(\"What do you wnat to convert:\").lower()\n",
        "if c == \"temperature\":\n",
        "  print(temp())\n",
        "elif c == \"weight\":\n",
        "  print(weight())\n",
        "elif c == \"distance\":\n",
        "  print(dist())\n",
        "else:\n",
        "  print(\"Invalid input\")\n",
        "\n"
      ]
    }
  ]
}
