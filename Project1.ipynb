{
  "nbformat": 4,
  "nbformat_minor": 0,
  "metadata": {
    "colab": {
      "provenance": [],
      "authorship_tag": "ABX9TyNhcMwVTCKQWiLVGkQkdYk8",
      "include_colab_link": true
    },
    "kernelspec": {
      "name": "python3",
      "display_name": "Python 3"
    },
    "language_info": {
      "name": "python"
    }
  },
  "cells": [
    {
      "cell_type": "markdown",
      "metadata": {
        "id": "view-in-github",
        "colab_type": "text"
      },
      "source": [
        "<a href=\"https://colab.research.google.com/github/YUKTI0807/mini-python-projects/blob/main/Project1.ipynb\" target=\"_parent\"><img src=\"https://colab.research.google.com/assets/colab-badge.svg\" alt=\"Open In Colab\"/></a>"
      ]
    },
    {
      "cell_type": "code",
      "execution_count": null,
      "metadata": {
        "colab": {
          "base_uri": "https://localhost:8080/"
        },
        "id": "SJK9WDiBPZKm",
        "outputId": "29b842fa-f279-411f-92a1-f93d8cec7c1b"
      },
      "outputs": [
        {
          "output_type": "stream",
          "name": "stdout",
          "text": [
            "Enter the first value:11\n",
            "Enter the second value:22\n",
            "Enter the operator like +, -, *, /:/\n",
            "11 / 22 = 0.5\n"
          ]
        }
      ],
      "source": [
        "# 1.Simple Calculator\n",
        "# Concepts: Variables, functions, user input, if-else\n",
        "# What to build:\n",
        "# Ask user for two numbers\n",
        "# Provide options (+, −, ×, ÷)\n",
        "# Perform operation & print result\n",
        "# Extra challenge: Handle division by zero gracefully.\n",
        "x = int(input(\"Enter the first value:\"))\n",
        "y = int(input(\"Enter the second value:\"))\n",
        "ch = input(\"Enter the operator like +, -, *, /:\")\n",
        "if ch == '+':\n",
        "    print(x,\"+\",y,\"=\",x+y)\n",
        "elif ch == '-':\n",
        "    print(x,\"-\",y,\"=\",x-y)\n",
        "elif ch == '*':\n",
        "    print(x,\"*\",y,\"=\",x*y)\n",
        "elif ch == '/':\n",
        "    if y == 0:\n",
        "        try:\n",
        "            print(x,\"/\",y,\"=\",x/y)\n",
        "        except ZeroDivisionError:\n",
        "            print(\"Error: Cannot divide by zero!\")\n",
        "    print(x,\"/\",y,\"=\",x/y)\n",
        "else:\n",
        "    print(\"Enter valid operator!!\")"
      ]
    }
  ]
}