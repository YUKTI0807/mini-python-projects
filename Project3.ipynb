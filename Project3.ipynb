{
  "nbformat": 4,
  "nbformat_minor": 0,
  "metadata": {
    "colab": {
      "provenance": [],
      "authorship_tag": "ABX9TyNRIWxdPLkiT5OFwReekU/f",
      "include_colab_link": true
    },
    "kernelspec": {
      "name": "python3",
      "display_name": "Python 3"
    },
    "language_info": {
      "name": "python"
    }
  },
  "cells": [
    {
      "cell_type": "markdown",
      "metadata": {
        "id": "view-in-github",
        "colab_type": "text"
      },
      "source": [
        "<a href=\"https://colab.research.google.com/github/YUKTI0807/mini-python-projects/blob/main/Project3.ipynb\" target=\"_parent\"><img src=\"https://colab.research.google.com/assets/colab-badge.svg\" alt=\"Open In Colab\"/></a>"
      ]
    },
    {
      "cell_type": "code",
      "execution_count": 1,
      "metadata": {
        "colab": {
          "base_uri": "https://localhost:8080/"
        },
        "id": "c64lVTPcUl-U",
        "outputId": "f113cb2c-2c8e-4d87-fd7f-3f4210279b8d"
      },
      "outputs": [
        {
          "output_type": "stream",
          "name": "stdout",
          "text": [
            "Welcome to To-Do list\n",
            "\n",
            "Do you want to add, view, delete, or exit?: add\n",
            "Enter task to add to the list. Type 'done' when finishe.\n",
            "Enter the task: qwertyuio\n",
            "Enter the task: asdfghjk\n",
            "Enter the task: zxcvbnm\n",
            "Enter the task: done\n",
            "Task added successfully.\n",
            "\n",
            "Do you want to add, view, delete, or exit?: view\n",
            "1 : qwertyuio\n",
            "2 : asdfghjk\n",
            "3 : zxcvbnm\n",
            "\n",
            "Do you want to add, view, delete, or exit?: del\n",
            "Unknown option\n",
            "\n",
            "Do you want to add, view, delete, or exit?: delete\n",
            "Which index do you want to delete: 1\n",
            "Task deleted successfully.\n",
            "\n",
            "Do you want to add, view, delete, or exit?: view\n",
            "1 : asdfghjk\n",
            "2 : zxcvbnm\n",
            "\n",
            "Do you want to add, view, delete, or exit?: exit\n",
            "Bye Bye!!\n"
          ]
        }
      ],
      "source": [
        "# 3. Basic To-Do List (Console App)\n",
        "# Concepts: Lists, functions, loops\n",
        "# What to build:\n",
        "# Show menu: Add Task, View Task, Delete Task, Exit\n",
        "# Store tasks in a list\n",
        "# Extra challenge: Save tasks to a file so they remain after program closes.\n",
        "li1 = []\n",
        "def view():\n",
        "    if len(li1) == 0:\n",
        "        print(\"No tasks available.\")\n",
        "    else:\n",
        "        n = 0\n",
        "        for t in li1:\n",
        "            n += 1\n",
        "            print(n,\":\",t)\n",
        "def add():\n",
        "    global li1\n",
        "    print(\"Enter task to add to the list. Type 'done' when finishe.\")\n",
        "    while True:\n",
        "        task = input(\"Enter the task: \")\n",
        "        if task.lower() == 'done':\n",
        "            break\n",
        "        li1.append(task)\n",
        "    print(\"Task added successfully.\")\n",
        "def delete():\n",
        "    global li1\n",
        "    index = int(input(\"Which index do you want to delete: \"))\n",
        "    if 1 <= index <= len(li1):\n",
        "        li1.pop(index - 1)\n",
        "        print(\"Task deleted successfully.\")\n",
        "    else:\n",
        "        print(\"Invalid index.\")\n",
        "\n",
        "running = True\n",
        "\n",
        "def exit_loop():\n",
        "    global running\n",
        "    print(\"Bye Bye!!\")\n",
        "    running = False\n",
        "\n",
        "def task(t):\n",
        "    match t:\n",
        "        case 'add':\n",
        "            add()\n",
        "        case 'view':\n",
        "            view()\n",
        "        case 'delete':\n",
        "            delete()\n",
        "        case 'exit':\n",
        "            exit_loop()\n",
        "        case _:\n",
        "            print(\"Unknown option\")\n",
        "print(\"Welcome to To-Do list\")\n",
        "\n",
        "while running:\n",
        "    t = input(\"\\nDo you want to add, view, delete, or exit?: \").lower()\n",
        "    task(t)"
      ]
    }
  ]
}