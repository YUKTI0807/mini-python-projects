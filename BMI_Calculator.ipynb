{
  "nbformat": 4,
  "nbformat_minor": 0,
  "metadata": {
    "colab": {
      "provenance": [],
      "authorship_tag": "ABX9TyMjYcHamWWS/7mwQE5rIh7V",
      "include_colab_link": true
    },
    "kernelspec": {
      "name": "python3",
      "display_name": "Python 3"
    },
    "language_info": {
      "name": "python"
    }
  },
  "cells": [
    {
      "cell_type": "markdown",
      "metadata": {
        "id": "view-in-github",
        "colab_type": "text"
      },
      "source": [
        "<a href=\"https://colab.research.google.com/github/YUKTI0807/mini-python-projects/blob/main/Project10.ipynb\" target=\"_parent\"><img src=\"https://colab.research.google.com/assets/colab-badge.svg\" alt=\"Open In Colab\"/></a>"
      ]
    },
    {
      "cell_type": "code",
      "execution_count": 2,
      "metadata": {
        "colab": {
          "base_uri": "https://localhost:8080/"
        },
        "id": "-FnPOSjc_Dv-",
        "outputId": "102576d8-212f-406b-a09f-330e4649135a"
      },
      "outputs": [
        {
          "output_type": "stream",
          "name": "stdout",
          "text": [
            "Welcome to BMI calculator!\n",
            "Enter weight in kg!\n",
            "Enter weight: 45\n",
            "Enter height in feet/inches/meters/cm\n",
            "Enter height:157\n",
            "Entered height is in feet/inches/meters/cm:cm\n",
            "Your BMI is: 18.26\n",
            "18.25631871475516\n",
            "You are underweight\n"
          ]
        }
      ],
      "source": [
        "# 12. BMI Calculator ⚖️\n",
        "# Concepts: User input, functions, math\n",
        "# What to build:\n",
        "# Take weight (kg) and height (m) from user\n",
        "# Calculate BMI = weight / (height²)\n",
        "# Show category (Underweight, Normal, Overweight, Obese)\n",
        "# Extra challenge: Support height in feet/inches.\n",
        "# BMI Categories 🏷️\n",
        "# Underweight: BMI < 18.5\n",
        "# Normal weight: 18.5 ≤ BMI < 24.9\n",
        "# Overweight: 25 ≤ BMI < 29.9\n",
        "# Obese: BMI ≥ 30\n",
        "# Height (m)=feet×0.3048\n",
        "# Height (m)=inches×0.0254\n",
        "\n",
        "print(\"Welcome to BMI calculator!\")\n",
        "print(\"Enter weight in kg!\")\n",
        "w = float(input(\"Enter weight: \"))\n",
        "\n",
        "print(\"Enter height in feet/inches/meters/cm\")\n",
        "h = float(input(\"Enter height:\"))\n",
        "x = input(\"Entered height is in feet/inches/meters/cm:\")\n",
        "\n",
        "if x == \"feet\":\n",
        "    h = h * 0.3048\n",
        "elif x == \"inches\":\n",
        "    h = h * 0.0254\n",
        "elif x == \"meters\":\n",
        "    h = h\n",
        "elif x == \"cm\":\n",
        "    h = h * 0.01\n",
        "else:\n",
        "    print(\"Invalid height unit!\")\n",
        "\n",
        "bmi = w / (h * h)\n",
        "print(f\"Your BMI is: {bmi:.2f}\")\n",
        "print(bmi)\n",
        "\n",
        "if bmi < 18.5:\n",
        "    print(\"You are underweight\")\n",
        "elif bmi < 24.9:\n",
        "    print(\"You have normal weight\")\n",
        "elif bmi < 29.9:\n",
        "    print(\"You are overweight\")\n",
        "else:\n",
        "    print(\"You are obese\")\n"
      ]
    }
  ]
}
